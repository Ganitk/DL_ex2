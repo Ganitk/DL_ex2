{
  "nbformat": 4,
  "nbformat_minor": 0,
  "metadata": {
    "kernelspec": {
      "display_name": "Python 3",
      "name": "python3",
      "language": "python"
    },
    "language_info": {
      "mimetype": "text/x-python",
      "nbconvert_exporter": "python",
      "name": "python",
      "file_extension": ".py",
      "version": "3.7.1",
      "pygments_lexer": "ipython3",
      "codemirror_mode": {
        "version": 3,
        "name": "ipython"
      }
    },
    "colab": {
      "name": "ConvolutionalNetworks.ipynb",
      "provenance": []
    }
  },
  "cells": [
    {
      "cell_type": "markdown",
      "metadata": {
        "tags": [
          "pdf-title"
        ],
        "id": "dXS5UL0qmoyP",
        "colab_type": "text"
      },
      "source": [
        "# Convolutional Networks\n",
        "So far we have worked with deep fully-connected networks, using them to explore different optimization strategies and network architectures. Fully-connected networks are a good testbed for experimentation because they are very computationally efficient, but in practice all state-of-the-art results use convolutional networks instead.\n",
        "\n",
        "First you will implement several layer types that are used in convolutional networks. You will then use these layers to train a convolutional network on the CIFAR-10 dataset."
      ]
    },
    {
      "cell_type": "code",
      "metadata": {
        "id": "erOQzL0smwPU",
        "colab_type": "code",
        "colab": {
          "base_uri": "https://localhost:8080/",
          "height": 122
        },
        "outputId": "148f7a73-1a5f-463b-d6f9-36ce9e2b8d8c"
      },
      "source": [
        "from google.colab import drive\n",
        "import os\n",
        "drive.mount('/content/drive', force_remount=True)\n",
        "# os.chdir('/content/drive/My Drive/DL/ex2/cs231n/datasets')\n",
        "# !bash get_datasets.sh\n",
        "os.chdir('/content/drive/My Drive/DL/ex2')"
      ],
      "execution_count": 1,
      "outputs": [
        {
          "output_type": "stream",
          "text": [
            "Go to this URL in a browser: https://accounts.google.com/o/oauth2/auth?client_id=947318989803-6bn6qk8qdgf4n4g3pfee6491hc0brc4i.apps.googleusercontent.com&redirect_uri=urn%3aietf%3awg%3aoauth%3a2.0%3aoob&response_type=code&scope=email%20https%3a%2f%2fwww.googleapis.com%2fauth%2fdocs.test%20https%3a%2f%2fwww.googleapis.com%2fauth%2fdrive%20https%3a%2f%2fwww.googleapis.com%2fauth%2fdrive.photos.readonly%20https%3a%2f%2fwww.googleapis.com%2fauth%2fpeopleapi.readonly\n",
            "\n",
            "Enter your authorization code:\n",
            "··········\n",
            "Mounted at /content/drive\n"
          ],
          "name": "stdout"
        }
      ]
    },
    {
      "cell_type": "code",
      "metadata": {
        "tags": [
          "pdf-ignore"
        ],
        "id": "GtkLPMz2moye",
        "colab_type": "code",
        "colab": {}
      },
      "source": [
        "# As usual, a bit of setup\n",
        "import numpy as np\n",
        "import matplotlib.pyplot as plt\n",
        "from cs231n.classifiers.cnn import *\n",
        "from cs231n.data_utils import get_CIFAR10_data\n",
        "from cs231n.gradient_check import eval_numerical_gradient_array, eval_numerical_gradient\n",
        "from cs231n.layers import *\n",
        "from cs231n.fast_layers import *\n",
        "from cs231n.solver import Solver\n",
        "\n",
        "%matplotlib inline\n",
        "plt.rcParams['figure.figsize'] = (10.0, 8.0) # set default size of plots\n",
        "plt.rcParams['image.interpolation'] = 'nearest'\n",
        "plt.rcParams['image.cmap'] = 'gray'\n",
        "\n",
        "# for auto-reloading external modules\n",
        "# see http://stackoverflow.com/questions/1907993/autoreload-of-modules-in-ipython\n",
        "%load_ext autoreload\n",
        "%autoreload 2\n",
        "\n",
        "def rel_error(x, y):\n",
        "  \"\"\" returns relative error \"\"\"\n",
        "  return np.max(np.abs(x - y) / (np.maximum(1e-8, np.abs(x) + np.abs(y))))"
      ],
      "execution_count": 0,
      "outputs": []
    },
    {
      "cell_type": "code",
      "metadata": {
        "tags": [
          "pdf-ignore"
        ],
        "id": "-gMjMxejmoy6",
        "colab_type": "code",
        "colab": {
          "base_uri": "https://localhost:8080/",
          "height": 119
        },
        "outputId": "9855aab4-4076-4c5e-906f-e1e2273c16e3"
      },
      "source": [
        "# Load the (preprocessed) CIFAR10 data.\n",
        "\n",
        "data = get_CIFAR10_data()\n",
        "for k, v in data.items():\n",
        "  print('%s: ' % k, v.shape)"
      ],
      "execution_count": 3,
      "outputs": [
        {
          "output_type": "stream",
          "text": [
            "X_train:  (49000, 3, 32, 32)\n",
            "y_train:  (49000,)\n",
            "X_val:  (1000, 3, 32, 32)\n",
            "y_val:  (1000,)\n",
            "X_test:  (1000, 3, 32, 32)\n",
            "y_test:  (1000,)\n"
          ],
          "name": "stdout"
        }
      ]
    },
    {
      "cell_type": "markdown",
      "metadata": {
        "id": "MEfgjsk7mozK",
        "colab_type": "text"
      },
      "source": [
        "# Convolution: Naive forward pass\n",
        "The core of a convolutional network is the convolution operation. In the file `cs231n/layers.py`, implement the forward pass for the convolution layer in the function `conv_forward_naive`. \n",
        "\n",
        "You don't have to worry too much about efficiency at this point; just write the code in whatever way you find most clear.\n",
        "\n",
        "You can test your implementation by running the following:"
      ]
    },
    {
      "cell_type": "code",
      "metadata": {
        "id": "R2FyqjHlmozO",
        "colab_type": "code",
        "colab": {
          "base_uri": "https://localhost:8080/",
          "height": 51
        },
        "outputId": "52efa76b-a389-4e27-a569-18457a208806"
      },
      "source": [
        "x_shape = (2, 3, 4, 4)\n",
        "w_shape = (3, 3, 4, 4)\n",
        "x = np.linspace(-0.1, 0.5, num=np.prod(x_shape)).reshape(x_shape)\n",
        "w = np.linspace(-0.2, 0.3, num=np.prod(w_shape)).reshape(w_shape)\n",
        "b = np.linspace(-0.1, 0.2, num=3)\n",
        "\n",
        "conv_param = {'stride': 2, 'pad': 1}\n",
        "out, _ = conv_forward_naive(x, w, b, conv_param)\n",
        "correct_out = np.array([[[[-0.08759809, -0.10987781],\n",
        "                           [-0.18387192, -0.2109216 ]],\n",
        "                          [[ 0.21027089,  0.21661097],\n",
        "                           [ 0.22847626,  0.23004637]],\n",
        "                          [[ 0.50813986,  0.54309974],\n",
        "                           [ 0.64082444,  0.67101435]]],\n",
        "                         [[[-0.98053589, -1.03143541],\n",
        "                           [-1.19128892, -1.24695841]],\n",
        "                          [[ 0.69108355,  0.66880383],\n",
        "                           [ 0.59480972,  0.56776003]],\n",
        "                          [[ 2.36270298,  2.36904306],\n",
        "                           [ 2.38090835,  2.38247847]]]])\n",
        "\n",
        "# Compare your output to ours; difference should be around e-8\n",
        "print('Testing conv_forward_naive')\n",
        "print('difference: ', rel_error(out, correct_out))"
      ],
      "execution_count": 20,
      "outputs": [
        {
          "output_type": "stream",
          "text": [
            "Testing conv_forward_naive\n",
            "difference:  2.2121476417505994e-08\n"
          ],
          "name": "stdout"
        }
      ]
    },
    {
      "cell_type": "markdown",
      "metadata": {
        "id": "9GX0-v0umozr",
        "colab_type": "text"
      },
      "source": [
        "# Aside: Image processing via convolutions\n",
        "\n",
        "As fun way to both check your implementation and gain a better understanding of the type of operation that convolutional layers can perform, we will set up an input containing two images and manually set up filters that perform common image processing operations (grayscale conversion and edge detection). The convolution forward pass will apply these operations to each of the input images. We can then visualize the results as a sanity check."
      ]
    },
    {
      "cell_type": "code",
      "metadata": {
        "tags": [
          "pdf-ignore-input"
        ],
        "id": "i1tiEuttmozy",
        "colab_type": "code",
        "colab": {
          "base_uri": "https://localhost:8080/",
          "height": 374
        },
        "outputId": "bf9eccdf-6a21-4353-e048-2e896fae07c4"
      },
      "source": [
        "from imageio import imread\n",
        "from PIL import Image\n",
        "\n",
        "kitten = imread('notebook_images/kitten.jpg')\n",
        "puppy = imread('notebook_images/puppy.jpg')\n",
        "# kitten is wide, and puppy is already square\n",
        "d = kitten.shape[1] - kitten.shape[0]\n",
        "kitten_cropped = kitten[:, d//2:-d//2, :]\n",
        "\n",
        "img_size = 200   # Make this smaller if it runs too slow\n",
        "resized_puppy = np.array(Image.fromarray(puppy).resize((img_size, img_size)))\n",
        "resized_kitten = np.array(Image.fromarray(kitten_cropped).resize((img_size, img_size)))\n",
        "x = np.zeros((2, 3, img_size, img_size))\n",
        "x[0, :, :, :] = resized_puppy.transpose((2, 0, 1))\n",
        "x[1, :, :, :] = resized_kitten.transpose((2, 0, 1))\n",
        "\n",
        "# Set up a convolutional weights holding 2 filters, each 3x3\n",
        "w = np.zeros((2, 3, 3, 3))\n",
        "\n",
        "# The first filter converts the image to grayscale.\n",
        "# Set up the red, green, and blue channels of the filter.\n",
        "w[0, 0, :, :] = [[0, 0, 0], [0, 0.3, 0], [0, 0, 0]]\n",
        "w[0, 1, :, :] = [[0, 0, 0], [0, 0.6, 0], [0, 0, 0]]\n",
        "w[0, 2, :, :] = [[0, 0, 0], [0, 0.1, 0], [0, 0, 0]]\n",
        "\n",
        "# Second filter detects horizontal edges in the blue channel.\n",
        "w[1, 2, :, :] = [[1, 2, 1], [0, 0, 0], [-1, -2, -1]]\n",
        "\n",
        "# Vector of biases. We don't need any bias for the grayscale\n",
        "# filter, but for the edge detection filter we want to add 128\n",
        "# to each output so that nothing is negative.\n",
        "b = np.array([0, 128])\n",
        "\n",
        "# Compute the result of convolving each input in x with each filter in w,\n",
        "# offsetting by b, and storing the results in out.\n",
        "out, _ = conv_forward_naive(x, w, b, {'stride': 1, 'pad': 1})\n",
        "\n",
        "def imshow_no_ax(img, normalize=True):\n",
        "    \"\"\" Tiny helper to show images as uint8 and remove axis labels \"\"\"\n",
        "    if normalize:\n",
        "        img_max, img_min = np.max(img), np.min(img)\n",
        "        img = 255.0 * (img - img_min) / (img_max - img_min)\n",
        "    plt.imshow(img.astype('uint8'))\n",
        "    plt.gca().axis('off')\n",
        "\n",
        "# Show the original images and the results of the conv operation\n",
        "plt.subplot(2, 3, 1)\n",
        "imshow_no_ax(puppy, normalize=False)\n",
        "plt.title('Original image')\n",
        "plt.subplot(2, 3, 2)\n",
        "imshow_no_ax(out[0, 0])\n",
        "plt.title('Grayscale')\n",
        "plt.subplot(2, 3, 3)\n",
        "imshow_no_ax(out[0, 1])\n",
        "plt.title('Edges')\n",
        "plt.subplot(2, 3, 4)\n",
        "imshow_no_ax(kitten_cropped, normalize=False)\n",
        "plt.subplot(2, 3, 5)\n",
        "imshow_no_ax(out[1, 0])\n",
        "plt.subplot(2, 3, 6)\n",
        "imshow_no_ax(out[1, 1])\n",
        "plt.show()"
      ],
      "execution_count": 22,
      "outputs": [
        {
          "output_type": "error",
          "ename": "FileNotFoundError",
          "evalue": "ignored",
          "traceback": [
            "\u001b[0;31m---------------------------------------------------------------------------\u001b[0m",
            "\u001b[0;31mFileNotFoundError\u001b[0m                         Traceback (most recent call last)",
            "\u001b[0;32m<ipython-input-22-1590032a62b5>\u001b[0m in \u001b[0;36m<module>\u001b[0;34m()\u001b[0m\n\u001b[1;32m      2\u001b[0m \u001b[0;32mfrom\u001b[0m \u001b[0mPIL\u001b[0m \u001b[0;32mimport\u001b[0m \u001b[0mImage\u001b[0m\u001b[0;34m\u001b[0m\u001b[0;34m\u001b[0m\u001b[0m\n\u001b[1;32m      3\u001b[0m \u001b[0;34m\u001b[0m\u001b[0m\n\u001b[0;32m----> 4\u001b[0;31m \u001b[0mkitten\u001b[0m \u001b[0;34m=\u001b[0m \u001b[0mimread\u001b[0m\u001b[0;34m(\u001b[0m\u001b[0;34m'notebook_images/kitten.jpg'\u001b[0m\u001b[0;34m)\u001b[0m\u001b[0;34m\u001b[0m\u001b[0;34m\u001b[0m\u001b[0m\n\u001b[0m\u001b[1;32m      5\u001b[0m \u001b[0mpuppy\u001b[0m \u001b[0;34m=\u001b[0m \u001b[0mimread\u001b[0m\u001b[0;34m(\u001b[0m\u001b[0;34m'notebook_images/puppy.jpg'\u001b[0m\u001b[0;34m)\u001b[0m\u001b[0;34m\u001b[0m\u001b[0;34m\u001b[0m\u001b[0m\n\u001b[1;32m      6\u001b[0m \u001b[0;31m# kitten is wide, and puppy is already square\u001b[0m\u001b[0;34m\u001b[0m\u001b[0;34m\u001b[0m\u001b[0;34m\u001b[0m\u001b[0m\n",
            "\u001b[0;32m/usr/local/lib/python3.6/dist-packages/imageio/core/functions.py\u001b[0m in \u001b[0;36mimread\u001b[0;34m(uri, format, **kwargs)\u001b[0m\n\u001b[1;32m    219\u001b[0m \u001b[0;34m\u001b[0m\u001b[0m\n\u001b[1;32m    220\u001b[0m     \u001b[0;31m# Get reader and read first\u001b[0m\u001b[0;34m\u001b[0m\u001b[0;34m\u001b[0m\u001b[0;34m\u001b[0m\u001b[0m\n\u001b[0;32m--> 221\u001b[0;31m     \u001b[0mreader\u001b[0m \u001b[0;34m=\u001b[0m \u001b[0mread\u001b[0m\u001b[0;34m(\u001b[0m\u001b[0muri\u001b[0m\u001b[0;34m,\u001b[0m \u001b[0mformat\u001b[0m\u001b[0;34m,\u001b[0m \u001b[0;34m\"i\"\u001b[0m\u001b[0;34m,\u001b[0m \u001b[0;34m**\u001b[0m\u001b[0mkwargs\u001b[0m\u001b[0;34m)\u001b[0m\u001b[0;34m\u001b[0m\u001b[0;34m\u001b[0m\u001b[0m\n\u001b[0m\u001b[1;32m    222\u001b[0m     \u001b[0;32mwith\u001b[0m \u001b[0mreader\u001b[0m\u001b[0;34m:\u001b[0m\u001b[0;34m\u001b[0m\u001b[0;34m\u001b[0m\u001b[0m\n\u001b[1;32m    223\u001b[0m         \u001b[0;32mreturn\u001b[0m \u001b[0mreader\u001b[0m\u001b[0;34m.\u001b[0m\u001b[0mget_data\u001b[0m\u001b[0;34m(\u001b[0m\u001b[0;36m0\u001b[0m\u001b[0;34m)\u001b[0m\u001b[0;34m\u001b[0m\u001b[0;34m\u001b[0m\u001b[0m\n",
            "\u001b[0;32m/usr/local/lib/python3.6/dist-packages/imageio/core/functions.py\u001b[0m in \u001b[0;36mget_reader\u001b[0;34m(uri, format, mode, **kwargs)\u001b[0m\n\u001b[1;32m    128\u001b[0m \u001b[0;34m\u001b[0m\u001b[0m\n\u001b[1;32m    129\u001b[0m     \u001b[0;31m# Create request object\u001b[0m\u001b[0;34m\u001b[0m\u001b[0;34m\u001b[0m\u001b[0;34m\u001b[0m\u001b[0m\n\u001b[0;32m--> 130\u001b[0;31m     \u001b[0mrequest\u001b[0m \u001b[0;34m=\u001b[0m \u001b[0mRequest\u001b[0m\u001b[0;34m(\u001b[0m\u001b[0muri\u001b[0m\u001b[0;34m,\u001b[0m \u001b[0;34m\"r\"\u001b[0m \u001b[0;34m+\u001b[0m \u001b[0mmode\u001b[0m\u001b[0;34m,\u001b[0m \u001b[0;34m**\u001b[0m\u001b[0mkwargs\u001b[0m\u001b[0;34m)\u001b[0m\u001b[0;34m\u001b[0m\u001b[0;34m\u001b[0m\u001b[0m\n\u001b[0m\u001b[1;32m    131\u001b[0m \u001b[0;34m\u001b[0m\u001b[0m\n\u001b[1;32m    132\u001b[0m     \u001b[0;31m# Get format\u001b[0m\u001b[0;34m\u001b[0m\u001b[0;34m\u001b[0m\u001b[0;34m\u001b[0m\u001b[0m\n",
            "\u001b[0;32m/usr/local/lib/python3.6/dist-packages/imageio/core/request.py\u001b[0m in \u001b[0;36m__init__\u001b[0;34m(self, uri, mode, **kwargs)\u001b[0m\n\u001b[1;32m    123\u001b[0m \u001b[0;34m\u001b[0m\u001b[0m\n\u001b[1;32m    124\u001b[0m         \u001b[0;31m# Parse what was given\u001b[0m\u001b[0;34m\u001b[0m\u001b[0;34m\u001b[0m\u001b[0;34m\u001b[0m\u001b[0m\n\u001b[0;32m--> 125\u001b[0;31m         \u001b[0mself\u001b[0m\u001b[0;34m.\u001b[0m\u001b[0m_parse_uri\u001b[0m\u001b[0;34m(\u001b[0m\u001b[0muri\u001b[0m\u001b[0;34m)\u001b[0m\u001b[0;34m\u001b[0m\u001b[0;34m\u001b[0m\u001b[0m\n\u001b[0m\u001b[1;32m    126\u001b[0m \u001b[0;34m\u001b[0m\u001b[0m\n\u001b[1;32m    127\u001b[0m         \u001b[0;31m# Set extension\u001b[0m\u001b[0;34m\u001b[0m\u001b[0;34m\u001b[0m\u001b[0;34m\u001b[0m\u001b[0m\n",
            "\u001b[0;32m/usr/local/lib/python3.6/dist-packages/imageio/core/request.py\u001b[0m in \u001b[0;36m_parse_uri\u001b[0;34m(self, uri)\u001b[0m\n\u001b[1;32m    271\u001b[0m                 \u001b[0;31m# Reading: check that the file exists (but is allowed a dir)\u001b[0m\u001b[0;34m\u001b[0m\u001b[0;34m\u001b[0m\u001b[0;34m\u001b[0m\u001b[0m\n\u001b[1;32m    272\u001b[0m                 \u001b[0;32mif\u001b[0m \u001b[0;32mnot\u001b[0m \u001b[0mos\u001b[0m\u001b[0;34m.\u001b[0m\u001b[0mpath\u001b[0m\u001b[0;34m.\u001b[0m\u001b[0mexists\u001b[0m\u001b[0;34m(\u001b[0m\u001b[0mfn\u001b[0m\u001b[0;34m)\u001b[0m\u001b[0;34m:\u001b[0m\u001b[0;34m\u001b[0m\u001b[0;34m\u001b[0m\u001b[0m\n\u001b[0;32m--> 273\u001b[0;31m                     \u001b[0;32mraise\u001b[0m \u001b[0mFileNotFoundError\u001b[0m\u001b[0;34m(\u001b[0m\u001b[0;34m\"No such file: '%s'\"\u001b[0m \u001b[0;34m%\u001b[0m \u001b[0mfn\u001b[0m\u001b[0;34m)\u001b[0m\u001b[0;34m\u001b[0m\u001b[0;34m\u001b[0m\u001b[0m\n\u001b[0m\u001b[1;32m    274\u001b[0m             \u001b[0;32melse\u001b[0m\u001b[0;34m:\u001b[0m\u001b[0;34m\u001b[0m\u001b[0;34m\u001b[0m\u001b[0m\n\u001b[1;32m    275\u001b[0m                 \u001b[0;31m# Writing: check that the directory to write to does exist\u001b[0m\u001b[0;34m\u001b[0m\u001b[0;34m\u001b[0m\u001b[0;34m\u001b[0m\u001b[0m\n",
            "\u001b[0;31mFileNotFoundError\u001b[0m: No such file: '/content/drive/My Drive/DL/ex2/notebook_images/kitten.jpg'"
          ]
        }
      ]
    },
    {
      "cell_type": "markdown",
      "metadata": {
        "id": "IMWI52Aymo0D",
        "colab_type": "text"
      },
      "source": [
        "# Convolution: Naive backward pass\n",
        "Implement the backward pass for the convolution operation in the function `conv_backward_naive` in the file `cs231n/layers.py`. Again, you don't need to worry too much about computational efficiency.\n",
        "\n",
        "When you are done, run the following to check your backward pass with a numeric gradient check."
      ]
    },
    {
      "cell_type": "code",
      "metadata": {
        "id": "z_apJLcemo0G",
        "colab_type": "code",
        "colab": {
          "base_uri": "https://localhost:8080/",
          "height": 85
        },
        "outputId": "c38d06a4-0d3b-4f4e-9b6b-421f986e41fc"
      },
      "source": [
        "np.random.seed(231)\n",
        "x = np.random.randn(4, 3, 5, 5)\n",
        "w = np.random.randn(2, 3, 3, 3)\n",
        "b = np.random.randn(2,)\n",
        "dout = np.random.randn(4, 2, 5, 5)\n",
        "conv_param = {'stride': 1, 'pad': 1}\n",
        "\n",
        "dx_num = eval_numerical_gradient_array(lambda x: conv_forward_naive(x, w, b, conv_param)[0], x, dout)\n",
        "dw_num = eval_numerical_gradient_array(lambda w: conv_forward_naive(x, w, b, conv_param)[0], w, dout)\n",
        "db_num = eval_numerical_gradient_array(lambda b: conv_forward_naive(x, w, b, conv_param)[0], b, dout)\n",
        "\n",
        "out, cache = conv_forward_naive(x, w, b, conv_param)\n",
        "dx, dw, db = conv_backward_naive(dout, cache)\n",
        "\n",
        "# Your errors should be around e-8 or less.\n",
        "print('Testing conv_backward_naive function')\n",
        "print('dx error: ', rel_error(dx, dx_num))\n",
        "print('dw error: ', rel_error(dw, dw_num))\n",
        "print('db error: ', rel_error(db, db_num))"
      ],
      "execution_count": 38,
      "outputs": [
        {
          "output_type": "stream",
          "text": [
            "Testing conv_backward_naive function\n",
            "dx error:  1.1597815076211182e-08\n",
            "dw error:  2.247109434939654e-10\n",
            "db error:  3.37264006649648e-11\n"
          ],
          "name": "stdout"
        }
      ]
    },
    {
      "cell_type": "markdown",
      "metadata": {
        "id": "J9TPP0d9mo0X",
        "colab_type": "text"
      },
      "source": [
        "# Max-Pooling: Naive forward\n",
        "Implement the forward pass for the max-pooling operation in the function `max_pool_forward_naive` in the file `cs231n/layers.py`. Again, don't worry too much about computational efficiency.\n",
        "\n",
        "Check your implementation by running the following:"
      ]
    },
    {
      "cell_type": "code",
      "metadata": {
        "id": "LheiUCNLmo0Z",
        "colab_type": "code",
        "colab": {
          "base_uri": "https://localhost:8080/",
          "height": 51
        },
        "outputId": "b73ea782-e6c5-458e-89fd-a07b5e9645fb"
      },
      "source": [
        "x_shape = (2, 3, 4, 4)\n",
        "x = np.linspace(-0.3, 0.4, num=np.prod(x_shape)).reshape(x_shape)\n",
        "pool_param = {'pool_width': 2, 'pool_height': 2, 'stride': 2}\n",
        "\n",
        "out, _ = max_pool_forward_naive(x, pool_param)\n",
        "\n",
        "correct_out = np.array([[[[-0.26315789, -0.24842105],\n",
        "                          [-0.20421053, -0.18947368]],\n",
        "                         [[-0.14526316, -0.13052632],\n",
        "                          [-0.08631579, -0.07157895]],\n",
        "                         [[-0.02736842, -0.01263158],\n",
        "                          [ 0.03157895,  0.04631579]]],\n",
        "                        [[[ 0.09052632,  0.10526316],\n",
        "                          [ 0.14947368,  0.16421053]],\n",
        "                         [[ 0.20842105,  0.22315789],\n",
        "                          [ 0.26736842,  0.28210526]],\n",
        "                         [[ 0.32631579,  0.34105263],\n",
        "                          [ 0.38526316,  0.4       ]]]])\n",
        "\n",
        "# Compare your output with ours. Difference should be on the order of e-8.\n",
        "print('Testing max_pool_forward_naive function:')\n",
        "print('difference: ', rel_error(out, correct_out))"
      ],
      "execution_count": 40,
      "outputs": [
        {
          "output_type": "stream",
          "text": [
            "Testing max_pool_forward_naive function:\n",
            "difference:  4.1666665157267834e-08\n"
          ],
          "name": "stdout"
        }
      ]
    },
    {
      "cell_type": "markdown",
      "metadata": {
        "id": "LkqZmPjsmo0u",
        "colab_type": "text"
      },
      "source": [
        "# Max-Pooling: Naive backward\n",
        "Implement the backward pass for the max-pooling operation in the function `max_pool_backward_naive` in the file `cs231n/layers.py`. You don't need to worry about computational efficiency.\n",
        "\n",
        "Check your implementation with numeric gradient checking by running the following:"
      ]
    },
    {
      "cell_type": "code",
      "metadata": {
        "id": "zOzDZZIAmo01",
        "colab_type": "code",
        "colab": {
          "base_uri": "https://localhost:8080/",
          "height": 51
        },
        "outputId": "520f8916-2e09-44bd-ee28-1b58c3e4d1b4"
      },
      "source": [
        "np.random.seed(231)\n",
        "x = np.random.randn(3, 2, 8, 8)\n",
        "dout = np.random.randn(3, 2, 4, 4)\n",
        "pool_param = {'pool_height': 2, 'pool_width': 2, 'stride': 2}\n",
        "\n",
        "dx_num = eval_numerical_gradient_array(lambda x: max_pool_forward_naive(x, pool_param)[0], x, dout)\n",
        "\n",
        "out, cache = max_pool_forward_naive(x, pool_param)\n",
        "dx = max_pool_backward_naive(dout, cache)\n",
        "\n",
        "# Your error should be on the order of e-12\n",
        "print('Testing max_pool_backward_naive function:')\n",
        "print('dx error: ', rel_error(dx, dx_num))"
      ],
      "execution_count": 53,
      "outputs": [
        {
          "output_type": "stream",
          "text": [
            "Testing max_pool_backward_naive function:\n",
            "dx error:  3.27562514223145e-12\n"
          ],
          "name": "stdout"
        }
      ]
    },
    {
      "cell_type": "markdown",
      "metadata": {
        "id": "q3K7FGeamo1D",
        "colab_type": "text"
      },
      "source": [
        "# Fast layers\n",
        "Making convolution and pooling layers fast can be challenging. To spare you the pain, we've provided fast implementations of the forward and backward passes for convolution and pooling layers in the file `cs231n/fast_layers.py`.\n",
        "\n",
        "The fast convolution implementation depends on a Cython extension; to compile it you need to run the following from the `cs231n` directory:\n",
        "\n",
        "```bash\n",
        "python setup.py build_ext --inplace\n",
        "```\n",
        "\n",
        "The API for the fast versions of the convolution and pooling layers is exactly the same as the naive versions that you implemented above: the forward pass receives data, weights, and parameters and produces outputs and a cache object; the backward pass recieves upstream derivatives and the cache object and produces gradients with respect to the data and weights.\n",
        "\n",
        "**NOTE:** The fast implementation for pooling will only perform optimally if the pooling regions are non-overlapping and tile the input. If these conditions are not met then the fast pooling implementation will not be much faster than the naive implementation.\n",
        "\n",
        "You can compare the performance of the naive and fast versions of these layers by running the following:"
      ]
    },
    {
      "cell_type": "code",
      "metadata": {
        "scrolled": true,
        "id": "MQ2iQKlDmo1G",
        "colab_type": "code",
        "colab": {
          "base_uri": "https://localhost:8080/",
          "height": 238
        },
        "outputId": "bd9dfb7a-0569-4408-deea-a79d0f720ced"
      },
      "source": [
        "# Rel errors should be around e-9 or less\n",
        "from cs231n.fast_layers import conv_forward_fast, conv_backward_fast\n",
        "from time import time\n",
        "np.random.seed(231)\n",
        "x = np.random.randn(100, 3, 31, 31)\n",
        "w = np.random.randn(25, 3, 3, 3)\n",
        "b = np.random.randn(25,)\n",
        "dout = np.random.randn(100, 25, 16, 16)\n",
        "conv_param = {'stride': 2, 'pad': 1}\n",
        "\n",
        "t0 = time()\n",
        "out_naive, cache_naive = conv_forward_naive(x, w, b, conv_param)\n",
        "t1 = time()\n",
        "out_fast, cache_fast = conv_forward_fast(x, w, b, conv_param)\n",
        "t2 = time()\n",
        "\n",
        "print('Testing conv_forward_fast:')\n",
        "print('Naive: %fs' % (t1 - t0))\n",
        "print('Fast: %fs' % (t2 - t1))\n",
        "print('Speedup: %fx' % ((t1 - t0) / (t2 - t1)))\n",
        "print('Difference: ', rel_error(out_naive, out_fast))\n",
        "\n",
        "t0 = time()\n",
        "dx_naive, dw_naive, db_naive = conv_backward_naive(dout, cache_naive)\n",
        "t1 = time()\n",
        "dx_fast, dw_fast, db_fast = conv_backward_fast(dout, cache_fast)\n",
        "t2 = time()\n",
        "\n",
        "print('\\nTesting conv_backward_fast:')\n",
        "print('Naive: %fs' % (t1 - t0))\n",
        "print('Fast: %fs' % (t2 - t1))\n",
        "print('Speedup: %fx' % ((t1 - t0) / (t2 - t1)))\n",
        "print('dx difference: ', rel_error(dx_naive, dx_fast))\n",
        "print('dw difference: ', rel_error(dw_naive, dw_fast))\n",
        "print('db difference: ', rel_error(db_naive, db_fast))"
      ],
      "execution_count": 54,
      "outputs": [
        {
          "output_type": "stream",
          "text": [
            "Testing conv_forward_fast:\n",
            "Naive: 5.466681s\n",
            "Fast: 0.090278s\n",
            "Speedup: 60.554071x\n",
            "Difference:  4.926407851494105e-11\n",
            "\n",
            "Testing conv_backward_fast:\n",
            "Naive: 7.997920s\n",
            "Fast: 0.020403s\n",
            "Speedup: 392.003576x\n",
            "dx difference:  1.383704034070129e-11\n",
            "dw difference:  8.081608592717142e-13\n",
            "db difference:  0.0\n"
          ],
          "name": "stdout"
        }
      ]
    },
    {
      "cell_type": "code",
      "metadata": {
        "id": "tyPB7_qYmo1T",
        "colab_type": "code",
        "colab": {
          "base_uri": "https://localhost:8080/",
          "height": 204
        },
        "outputId": "f7c554b2-3050-4f41-a5bd-a703c0c29414"
      },
      "source": [
        "# Relative errors should be close to 0.0\n",
        "from cs231n.fast_layers import max_pool_forward_fast, max_pool_backward_fast\n",
        "np.random.seed(231)\n",
        "x = np.random.randn(100, 3, 32, 32)\n",
        "dout = np.random.randn(100, 3, 16, 16)\n",
        "pool_param = {'pool_height': 2, 'pool_width': 2, 'stride': 2}\n",
        "\n",
        "t0 = time()\n",
        "out_naive, cache_naive = max_pool_forward_naive(x, pool_param)\n",
        "t1 = time()\n",
        "out_fast, cache_fast = max_pool_forward_fast(x, pool_param)\n",
        "t2 = time()\n",
        "\n",
        "print('Testing pool_forward_fast:')\n",
        "print('Naive: %fs' % (t1 - t0))\n",
        "print('fast: %fs' % (t2 - t1))\n",
        "print('speedup: %fx' % ((t1 - t0) / (t2 - t1)))\n",
        "print('difference: ', rel_error(out_naive, out_fast))\n",
        "\n",
        "t0 = time()\n",
        "dx_naive = max_pool_backward_naive(dout, cache_naive)\n",
        "t1 = time()\n",
        "dx_fast = max_pool_backward_fast(dout, cache_fast)\n",
        "t2 = time()\n",
        "\n",
        "print('\\nTesting pool_backward_fast:')\n",
        "print('Naive: %fs' % (t1 - t0))\n",
        "print('fast: %fs' % (t2 - t1))\n",
        "print('speedup: %fx' % ((t1 - t0) / (t2 - t1)))\n",
        "print('dx difference: ', rel_error(dx_naive, dx_fast))"
      ],
      "execution_count": 55,
      "outputs": [
        {
          "output_type": "stream",
          "text": [
            "Testing pool_forward_fast:\n",
            "Naive: 0.011201s\n",
            "fast: 0.004528s\n",
            "speedup: 2.473490x\n",
            "difference:  0.0\n",
            "\n",
            "Testing pool_backward_fast:\n",
            "Naive: 0.826878s\n",
            "fast: 0.014172s\n",
            "speedup: 58.344599x\n",
            "dx difference:  0.0\n"
          ],
          "name": "stdout"
        }
      ]
    },
    {
      "cell_type": "markdown",
      "metadata": {
        "id": "tk_Gsvh3mo1g",
        "colab_type": "text"
      },
      "source": [
        "# Convolutional \"sandwich\" layers\n",
        "Previously we introduced the concept of \"sandwich\" layers that combine multiple operations into commonly used patterns. In the file `cs231n/layer_utils.py` you will find sandwich layers that implement a few commonly used patterns for convolutional networks. Run the cells below to sanity check they're working."
      ]
    },
    {
      "cell_type": "code",
      "metadata": {
        "id": "GW-uRjgrmo1m",
        "colab_type": "code",
        "colab": {
          "base_uri": "https://localhost:8080/",
          "height": 85
        },
        "outputId": "0847873a-090a-4413-f069-e34afc675ca0"
      },
      "source": [
        "from cs231n.layer_utils import conv_relu_pool_forward, conv_relu_pool_backward\n",
        "np.random.seed(231)\n",
        "x = np.random.randn(2, 3, 16, 16)\n",
        "w = np.random.randn(3, 3, 3, 3)\n",
        "b = np.random.randn(3,)\n",
        "dout = np.random.randn(2, 3, 8, 8)\n",
        "conv_param = {'stride': 1, 'pad': 1}\n",
        "pool_param = {'pool_height': 2, 'pool_width': 2, 'stride': 2}\n",
        "\n",
        "out, cache = conv_relu_pool_forward(x, w, b, conv_param, pool_param)\n",
        "dx, dw, db = conv_relu_pool_backward(dout, cache)\n",
        "\n",
        "dx_num = eval_numerical_gradient_array(lambda x: conv_relu_pool_forward(x, w, b, conv_param, pool_param)[0], x, dout)\n",
        "dw_num = eval_numerical_gradient_array(lambda w: conv_relu_pool_forward(x, w, b, conv_param, pool_param)[0], w, dout)\n",
        "db_num = eval_numerical_gradient_array(lambda b: conv_relu_pool_forward(x, w, b, conv_param, pool_param)[0], b, dout)\n",
        "\n",
        "# Relative errors should be around e-8 or less\n",
        "print('Testing conv_relu_pool')\n",
        "print('dx error: ', rel_error(dx_num, dx))\n",
        "print('dw error: ', rel_error(dw_num, dw))\n",
        "print('db error: ', rel_error(db_num, db))"
      ],
      "execution_count": 56,
      "outputs": [
        {
          "output_type": "stream",
          "text": [
            "Testing conv_relu_pool\n",
            "dx error:  9.591132621921372e-09\n",
            "dw error:  5.802391137330214e-09\n",
            "db error:  1.0146343411762047e-09\n"
          ],
          "name": "stdout"
        }
      ]
    },
    {
      "cell_type": "code",
      "metadata": {
        "id": "91z_O-WWmo18",
        "colab_type": "code",
        "colab": {
          "base_uri": "https://localhost:8080/",
          "height": 85
        },
        "outputId": "a8198f68-af61-4ef3-b1ca-f20134677d9c"
      },
      "source": [
        "from cs231n.layer_utils import conv_relu_forward, conv_relu_backward\n",
        "np.random.seed(231)\n",
        "x = np.random.randn(2, 3, 8, 8)\n",
        "w = np.random.randn(3, 3, 3, 3)\n",
        "b = np.random.randn(3,)\n",
        "dout = np.random.randn(2, 3, 8, 8)\n",
        "conv_param = {'stride': 1, 'pad': 1}\n",
        "\n",
        "out, cache = conv_relu_forward(x, w, b, conv_param)\n",
        "dx, dw, db = conv_relu_backward(dout, cache)\n",
        "\n",
        "dx_num = eval_numerical_gradient_array(lambda x: conv_relu_forward(x, w, b, conv_param)[0], x, dout)\n",
        "dw_num = eval_numerical_gradient_array(lambda w: conv_relu_forward(x, w, b, conv_param)[0], w, dout)\n",
        "db_num = eval_numerical_gradient_array(lambda b: conv_relu_forward(x, w, b, conv_param)[0], b, dout)\n",
        "\n",
        "# Relative errors should be around e-8 or less\n",
        "print('Testing conv_relu:')\n",
        "print('dx error: ', rel_error(dx_num, dx))\n",
        "print('dw error: ', rel_error(dw_num, dw))\n",
        "print('db error: ', rel_error(db_num, db))"
      ],
      "execution_count": 57,
      "outputs": [
        {
          "output_type": "stream",
          "text": [
            "Testing conv_relu:\n",
            "dx error:  1.5218619980349303e-09\n",
            "dw error:  2.702022646099404e-10\n",
            "db error:  1.451272393591721e-10\n"
          ],
          "name": "stdout"
        }
      ]
    },
    {
      "cell_type": "markdown",
      "metadata": {
        "id": "tT8-T0q8mo2K",
        "colab_type": "text"
      },
      "source": [
        "# Three-layer ConvNet\n",
        "Now that you have implemented all the necessary layers, we can put them together into a simple convolutional network.\n",
        "\n",
        "Open the file `cs231n/classifiers/cnn.py` and complete the implementation of the `ThreeLayerConvNet` class. Remember you can use the fast/sandwich layers (already imported for you) in your implementation. Run the following cells to help you debug:"
      ]
    },
    {
      "cell_type": "markdown",
      "metadata": {
        "id": "kkT-vySLmo2N",
        "colab_type": "text"
      },
      "source": [
        "## Sanity check loss\n",
        "After you build a new network, one of the first things you should do is sanity check the loss. When we use the softmax loss, we expect the loss for random weights (and no regularization) to be about `log(C)` for `C` classes. When we add regularization the loss should go up slightly."
      ]
    },
    {
      "cell_type": "code",
      "metadata": {
        "id": "A30Xj-Znmo2P",
        "colab_type": "code",
        "colab": {
          "base_uri": "https://localhost:8080/",
          "height": 51
        },
        "outputId": "c15bddea-6913-419f-d7c9-02fbc153b58d"
      },
      "source": [
        "model = ThreeLayerConvNet()\n",
        "\n",
        "N = 50\n",
        "X = np.random.randn(N, 3, 32, 32)\n",
        "y = np.random.randint(10, size=N)\n",
        "\n",
        "loss, grads = model.loss(X, y)\n",
        "print('Initial loss (no regularization): ', loss)\n",
        "\n",
        "model.reg = 0.5\n",
        "loss, grads = model.loss(X, y)\n",
        "print('Initial loss (with regularization): ', loss)"
      ],
      "execution_count": 64,
      "outputs": [
        {
          "output_type": "stream",
          "text": [
            "Initial loss (no regularization):  2.3025845803923035\n",
            "Initial loss (with regularization):  2.5087113001055146\n"
          ],
          "name": "stdout"
        }
      ]
    },
    {
      "cell_type": "markdown",
      "metadata": {
        "id": "3557yzGHmo2e",
        "colab_type": "text"
      },
      "source": [
        "## Gradient check\n",
        "After the loss looks reasonable, use numeric gradient checking to make sure that your backward pass is correct. When you use numeric gradient checking you should use a small amount of artifical data and a small number of neurons at each layer. Note: correct implementations may still have relative errors up to the order of e-2."
      ]
    },
    {
      "cell_type": "code",
      "metadata": {
        "id": "yPAZl5Ubmo2g",
        "colab_type": "code",
        "colab": {
          "base_uri": "https://localhost:8080/",
          "height": 119
        },
        "outputId": "e5e7a3e8-2912-49e3-a7c2-6df7c23e43ed"
      },
      "source": [
        "num_inputs = 2\n",
        "input_dim = (3, 16, 16)\n",
        "reg = 0.0\n",
        "num_classes = 10\n",
        "np.random.seed(231)\n",
        "X = np.random.randn(num_inputs, *input_dim)\n",
        "y = np.random.randint(num_classes, size=num_inputs)\n",
        "\n",
        "model = ThreeLayerConvNet(num_filters=3, filter_size=3,\n",
        "                          input_dim=input_dim, hidden_dim=7,\n",
        "                          dtype=np.float64)\n",
        "loss, grads = model.loss(X, y)\n",
        "# Errors should be small, but correct implementations may have\n",
        "# relative errors up to the order of e-2\n",
        "for param_name in sorted(grads):\n",
        "    f = lambda _: model.loss(X, y)[0]\n",
        "    param_grad_num = eval_numerical_gradient(f, model.params[param_name], verbose=False, h=1e-6)\n",
        "    e = rel_error(param_grad_num, grads[param_name])\n",
        "    print('%s max relative error: %e' % (param_name, rel_error(param_grad_num, grads[param_name])))"
      ],
      "execution_count": 65,
      "outputs": [
        {
          "output_type": "stream",
          "text": [
            "W1 max relative error: 1.380104e-04\n",
            "W2 max relative error: 1.822723e-02\n",
            "W3 max relative error: 3.064049e-04\n",
            "b1 max relative error: 3.477652e-05\n",
            "b2 max relative error: 2.516375e-03\n",
            "b3 max relative error: 7.945660e-10\n"
          ],
          "name": "stdout"
        }
      ]
    },
    {
      "cell_type": "markdown",
      "metadata": {
        "id": "thWWdyO2mo2s",
        "colab_type": "text"
      },
      "source": [
        "## Overfit small data\n",
        "A nice trick is to train your model with just a few training samples. You should be able to overfit small datasets, which will result in very high training accuracy and comparatively low validation accuracy."
      ]
    },
    {
      "cell_type": "code",
      "metadata": {
        "id": "lUudXzHfmo2v",
        "colab_type": "code",
        "colab": {
          "base_uri": "https://localhost:8080/",
          "height": 799
        },
        "outputId": "41d18742-f527-4e74-f102-346e696acce1"
      },
      "source": [
        "np.random.seed(231)\n",
        "\n",
        "num_train = 100\n",
        "small_data = {\n",
        "  'X_train': data['X_train'][:num_train],\n",
        "  'y_train': data['y_train'][:num_train],\n",
        "  'X_val': data['X_val'],\n",
        "  'y_val': data['y_val'],\n",
        "}\n",
        "\n",
        "model = ThreeLayerConvNet(weight_scale=1e-2)\n",
        "\n",
        "solver = Solver(model, small_data,\n",
        "                num_epochs=15, batch_size=50,\n",
        "                update_rule='adam',\n",
        "                optim_config={\n",
        "                  'learning_rate': 1e-3,\n",
        "                },\n",
        "                verbose=True, print_every=1)\n",
        "solver.train()"
      ],
      "execution_count": 66,
      "outputs": [
        {
          "output_type": "stream",
          "text": [
            "(Iteration 1 / 30) loss: 2.414060\n",
            "(Epoch 0 / 15) train acc: 0.200000; val_acc: 0.137000\n",
            "(Iteration 2 / 30) loss: 3.102925\n",
            "(Epoch 1 / 15) train acc: 0.140000; val_acc: 0.087000\n",
            "(Iteration 3 / 30) loss: 2.270330\n",
            "(Iteration 4 / 30) loss: 2.096705\n",
            "(Epoch 2 / 15) train acc: 0.240000; val_acc: 0.094000\n",
            "(Iteration 5 / 30) loss: 1.838880\n",
            "(Iteration 6 / 30) loss: 1.934188\n",
            "(Epoch 3 / 15) train acc: 0.510000; val_acc: 0.173000\n",
            "(Iteration 7 / 30) loss: 1.827912\n",
            "(Iteration 8 / 30) loss: 1.639574\n",
            "(Epoch 4 / 15) train acc: 0.520000; val_acc: 0.188000\n",
            "(Iteration 9 / 30) loss: 1.330082\n",
            "(Iteration 10 / 30) loss: 1.756115\n",
            "(Epoch 5 / 15) train acc: 0.630000; val_acc: 0.167000\n",
            "(Iteration 11 / 30) loss: 1.024162\n",
            "(Iteration 12 / 30) loss: 1.041826\n",
            "(Epoch 6 / 15) train acc: 0.750000; val_acc: 0.229000\n",
            "(Iteration 13 / 30) loss: 1.142777\n",
            "(Iteration 14 / 30) loss: 0.835706\n",
            "(Epoch 7 / 15) train acc: 0.790000; val_acc: 0.247000\n",
            "(Iteration 15 / 30) loss: 0.587786\n",
            "(Iteration 16 / 30) loss: 0.645509\n",
            "(Epoch 8 / 15) train acc: 0.820000; val_acc: 0.252000\n",
            "(Iteration 17 / 30) loss: 0.786844\n",
            "(Iteration 18 / 30) loss: 0.467054\n",
            "(Epoch 9 / 15) train acc: 0.820000; val_acc: 0.178000\n",
            "(Iteration 19 / 30) loss: 0.429880\n",
            "(Iteration 20 / 30) loss: 0.635498\n",
            "(Epoch 10 / 15) train acc: 0.900000; val_acc: 0.206000\n",
            "(Iteration 21 / 30) loss: 0.365807\n",
            "(Iteration 22 / 30) loss: 0.284220\n",
            "(Epoch 11 / 15) train acc: 0.820000; val_acc: 0.201000\n",
            "(Iteration 23 / 30) loss: 0.469343\n",
            "(Iteration 24 / 30) loss: 0.509369\n",
            "(Epoch 12 / 15) train acc: 0.920000; val_acc: 0.211000\n",
            "(Iteration 25 / 30) loss: 0.111638\n",
            "(Iteration 26 / 30) loss: 0.145388\n",
            "(Epoch 13 / 15) train acc: 0.930000; val_acc: 0.213000\n",
            "(Iteration 27 / 30) loss: 0.155575\n",
            "(Iteration 28 / 30) loss: 0.143398\n",
            "(Epoch 14 / 15) train acc: 0.960000; val_acc: 0.212000\n",
            "(Iteration 29 / 30) loss: 0.158160\n",
            "(Iteration 30 / 30) loss: 0.118934\n",
            "(Epoch 15 / 15) train acc: 0.990000; val_acc: 0.220000\n"
          ],
          "name": "stdout"
        }
      ]
    },
    {
      "cell_type": "markdown",
      "metadata": {
        "id": "EnX8jOXGmo3F",
        "colab_type": "text"
      },
      "source": [
        "Plotting the loss, training accuracy, and validation accuracy should show clear overfitting:"
      ]
    },
    {
      "cell_type": "code",
      "metadata": {
        "id": "s4nzrGx0mo3I",
        "colab_type": "code",
        "colab": {
          "base_uri": "https://localhost:8080/",
          "height": 497
        },
        "outputId": "87bde0c5-5ae0-4f6f-cf60-46b8c5cedf38"
      },
      "source": [
        "plt.subplot(2, 1, 1)\n",
        "plt.plot(solver.loss_history, 'o')\n",
        "plt.xlabel('iteration')\n",
        "plt.ylabel('loss')\n",
        "\n",
        "plt.subplot(2, 1, 2)\n",
        "plt.plot(solver.train_acc_history, '-o')\n",
        "plt.plot(solver.val_acc_history, '-o')\n",
        "plt.legend(['train', 'val'], loc='upper left')\n",
        "plt.xlabel('epoch')\n",
        "plt.ylabel('accuracy')\n",
        "plt.show()"
      ],
      "execution_count": 67,
      "outputs": [
        {
          "output_type": "display_data",
          "data": {
            "image/png": "[encoded data removed]",
            "text/plain": [
              "<Figure size 720x576 with 2 Axes>"
            ]
          },
          "metadata": {
            "tags": []
          }
        }
      ]
    },
    {
      "cell_type": "markdown",
      "metadata": {
        "id": "IQH21ql6mo3W",
        "colab_type": "text"
      },
      "source": [
        "## Train the net\n",
        "By training the three-layer convolutional network for one epoch, you should achieve greater than 40% accuracy on the training set:"
      ]
    },
    {
      "cell_type": "code",
      "metadata": {
        "scrolled": false,
        "id": "g8CA4Mybmo3Z",
        "colab_type": "code",
        "colab": {
          "base_uri": "https://localhost:8080/",
          "height": 884
        },
        "outputId": "7d327d00-0573-48fa-91f4-07cc0b56ae0d"
      },
      "source": [
        "model = ThreeLayerConvNet(weight_scale=0.001, hidden_dim=500, reg=0.001)\n",
        "\n",
        "solver = Solver(model, data,\n",
        "                num_epochs=1, batch_size=50,\n",
        "                update_rule='adam',\n",
        "                optim_config={\n",
        "                  'learning_rate': 1e-3,\n",
        "                },\n",
        "                verbose=True, print_every=20)\n",
        "solver.train()"
      ],
      "execution_count": 68,
      "outputs": [
        {
          "output_type": "stream",
          "text": [
            "(Iteration 1 / 980) loss: 2.304740\n",
            "(Epoch 0 / 1) train acc: 0.103000; val_acc: 0.107000\n",
            "(Iteration 21 / 980) loss: 2.098229\n",
            "(Iteration 41 / 980) loss: 1.949788\n",
            "(Iteration 61 / 980) loss: 1.888398\n",
            "(Iteration 81 / 980) loss: 1.877093\n",
            "(Iteration 101 / 980) loss: 1.851877\n",
            "(Iteration 121 / 980) loss: 1.859353\n",
            "(Iteration 141 / 980) loss: 1.800181\n",
            "(Iteration 161 / 980) loss: 2.143292\n",
            "(Iteration 181 / 980) loss: 1.830573\n",
            "(Iteration 201 / 980) loss: 2.037280\n",
            "(Iteration 221 / 980) loss: 2.020304\n",
            "(Iteration 241 / 980) loss: 1.823728\n",
            "(Iteration 261 / 980) loss: 1.692679\n",
            "(Iteration 281 / 980) loss: 1.882594\n",
            "(Iteration 301 / 980) loss: 1.798261\n",
            "(Iteration 321 / 980) loss: 1.851960\n",
            "(Iteration 341 / 980) loss: 1.716323\n",
            "(Iteration 361 / 980) loss: 1.897655\n",
            "(Iteration 381 / 980) loss: 1.319744\n",
            "(Iteration 401 / 980) loss: 1.738790\n",
            "(Iteration 421 / 980) loss: 1.488866\n",
            "(Iteration 441 / 980) loss: 1.718409\n",
            "(Iteration 461 / 980) loss: 1.744440\n",
            "(Iteration 481 / 980) loss: 1.605460\n",
            "(Iteration 501 / 980) loss: 1.494847\n",
            "(Iteration 521 / 980) loss: 1.835179\n",
            "(Iteration 541 / 980) loss: 1.483923\n",
            "(Iteration 561 / 980) loss: 1.676871\n",
            "(Iteration 581 / 980) loss: 1.438325\n",
            "(Iteration 601 / 980) loss: 1.443469\n",
            "(Iteration 621 / 980) loss: 1.529369\n",
            "(Iteration 641 / 980) loss: 1.763475\n",
            "(Iteration 661 / 980) loss: 1.790329\n",
            "(Iteration 681 / 980) loss: 1.693343\n",
            "(Iteration 701 / 980) loss: 1.637078\n",
            "(Iteration 721 / 980) loss: 1.644564\n",
            "(Iteration 741 / 980) loss: 1.708919\n",
            "(Iteration 761 / 980) loss: 1.494252\n",
            "(Iteration 781 / 980) loss: 1.901751\n",
            "(Iteration 801 / 980) loss: 1.898991\n",
            "(Iteration 821 / 980) loss: 1.489988\n",
            "(Iteration 841 / 980) loss: 1.377615\n",
            "(Iteration 861 / 980) loss: 1.763751\n",
            "(Iteration 881 / 980) loss: 1.540284\n",
            "(Iteration 901 / 980) loss: 1.525582\n",
            "(Iteration 921 / 980) loss: 1.674166\n",
            "(Iteration 941 / 980) loss: 1.714316\n",
            "(Iteration 961 / 980) loss: 1.534668\n",
            "(Epoch 1 / 1) train acc: 0.504000; val_acc: 0.499000\n"
          ],
          "name": "stdout"
        }
      ]
    },
    {
      "cell_type": "markdown",
      "metadata": {
        "id": "b5XralsMmo3n",
        "colab_type": "text"
      },
      "source": [
        "## Visualize Filters\n",
        "You can visualize the first-layer convolutional filters from the trained network by running the following:"
      ]
    },
    {
      "cell_type": "code",
      "metadata": {
        "id": "80PnC3wLmo3q",
        "colab_type": "code",
        "colab": {
          "base_uri": "https://localhost:8080/",
          "height": 303
        },
        "outputId": "8f34dc1c-1597-4c06-d74f-88aae1ed7c99"
      },
      "source": [
        "from cs231n.vis_utils import visualize_grid\n",
        "\n",
        "grid = visualize_grid(model.params['W1'].transpose(0, 2, 3, 1))\n",
        "plt.imshow(grid.astype('uint8'))\n",
        "plt.axis('off')\n",
        "plt.gcf().set_size_inches(5, 5)\n",
        "plt.show()"
      ],
      "execution_count": 69,
      "outputs": [
        {
          "output_type": "display_data",
          "data": {
            "image/png": "[encoded data removed]",
            "text/plain": [
              "<Figure size 360x360 with 1 Axes>"
            ]
          },
          "metadata": {
            "tags": []
          }
        }
      ]
    },
    {
      "cell_type": "markdown",
      "metadata": {
        "id": "2vtae-CVmo33",
        "colab_type": "text"
      },
      "source": [
        "# Spatial Batch Normalization\n",
        "We already saw that batch normalization is a very useful technique for training deep fully-connected networks. As proposed in the original paper (link in `BatchNormalization.ipynb`), batch normalization can also be used for convolutional networks, but we need to tweak it a bit; the modification will be called \"spatial batch normalization.\"\n",
        "\n",
        "Normally batch-normalization accepts inputs of shape `(N, D)` and produces outputs of shape `(N, D)`, where we normalize across the minibatch dimension `N`. For data coming from convolutional layers, batch normalization needs to accept inputs of shape `(N, C, H, W)` and produce outputs of shape `(N, C, H, W)` where the `N` dimension gives the minibatch size and the `(H, W)` dimensions give the spatial size of the feature map.\n",
        "\n",
        "If the feature map was produced using convolutions, then we expect every feature channel's statistics e.g. mean, variance to be relatively consistent both between different images, and different locations within the same image -- after all, every feature channel is produced by the same convolutional filter! Therefore spatial batch normalization computes a mean and variance for each of the `C` feature channels by computing statistics over the minibatch dimension `N` as well the spatial dimensions `H` and `W`.\n",
        "\n",
        "\n",
        "[1] [Sergey Ioffe and Christian Szegedy, \"Batch Normalization: Accelerating Deep Network Training by Reducing\n",
        "Internal Covariate Shift\", ICML 2015.](https://arxiv.org/abs/1502.03167)"
      ]
    },
    {
      "cell_type": "markdown",
      "metadata": {
        "id": "0uYNgnZ-mo36",
        "colab_type": "text"
      },
      "source": [
        "## Spatial batch normalization: forward\n",
        "\n",
        "In the file `cs231n/layers.py`, implement the forward pass for spatial batch normalization in the function `spatial_batchnorm_forward`. Check your implementation by running the following:"
      ]
    },
    {
      "cell_type": "code",
      "metadata": {
        "id": "9n9kYTRDmo38",
        "colab_type": "code",
        "colab": {
          "base_uri": "https://localhost:8080/",
          "height": 221
        },
        "outputId": "3b4ca905-dd13-46c1-a8e8-5a969bda34df"
      },
      "source": [
        "np.random.seed(231)\n",
        "# Check the training-time forward pass by checking means and variances\n",
        "# of features both before and after spatial batch normalization\n",
        "\n",
        "N, C, H, W = 2, 3, 4, 5\n",
        "x = 4 * np.random.randn(N, C, H, W) + 10\n",
        "\n",
        "print('Before spatial batch normalization:')\n",
        "print('  Shape: ', x.shape)\n",
        "print('  Means: ', x.mean(axis=(0, 2, 3)))\n",
        "print('  Stds: ', x.std(axis=(0, 2, 3)))\n",
        "\n",
        "# Means should be close to zero and stds close to one\n",
        "gamma, beta = np.ones(C), np.zeros(C)\n",
        "bn_param = {'mode': 'train'}\n",
        "out, _ = spatial_batchnorm_forward(x, gamma, beta, bn_param)\n",
        "print('After spatial batch normalization:')\n",
        "print('  Shape: ', out.shape)\n",
        "print('  Means: ', out.mean(axis=(0, 2, 3)))\n",
        "print('  Stds: ', out.std(axis=(0, 2, 3)))\n",
        "\n",
        "# Means should be close to beta and stds close to gamma\n",
        "gamma, beta = np.asarray([3, 4, 5]), np.asarray([6, 7, 8])\n",
        "out, _ = spatial_batchnorm_forward(x, gamma, beta, bn_param)\n",
        "print('After spatial batch normalization (nontrivial gamma, beta):')\n",
        "print('  Shape: ', out.shape)\n",
        "print('  Means: ', out.mean(axis=(0, 2, 3)))\n",
        "print('  Stds: ', out.std(axis=(0, 2, 3)))"
      ],
      "execution_count": 78,
      "outputs": [
        {
          "output_type": "stream",
          "text": [
            "Before spatial batch normalization:\n",
            "  Shape:  (2, 3, 4, 5)\n",
            "  Means:  [9.33463814 8.90909116 9.11056338]\n",
            "  Stds:  [3.61447857 3.19347686 3.5168142 ]\n",
            "After spatial batch normalization:\n",
            "  Shape:  (2, 3, 4, 5)\n",
            "  Means:  [ 6.18949336e-16  5.99520433e-16 -1.22124533e-16]\n",
            "  Stds:  [0.99999962 0.99999951 0.9999996 ]\n",
            "After spatial batch normalization (nontrivial gamma, beta):\n",
            "  Shape:  (2, 3, 4, 5)\n",
            "  Means:  [6. 7. 8.]\n",
            "  Stds:  [2.99999885 3.99999804 4.99999798]\n"
          ],
          "name": "stdout"
        }
      ]
    },
    {
      "cell_type": "code",
      "metadata": {
        "id": "pXKxZMSNmo4H",
        "colab_type": "code",
        "colab": {
          "base_uri": "https://localhost:8080/",
          "height": 68
        },
        "outputId": "c1069eac-ec8e-43ab-ce76-87816a0dfcb3"
      },
      "source": [
        "np.random.seed(231)\n",
        "# Check the test-time forward pass by running the training-time\n",
        "# forward pass many times to warm up the running averages, and then\n",
        "# checking the means and variances of activations after a test-time\n",
        "# forward pass.\n",
        "N, C, H, W = 10, 4, 11, 12\n",
        "\n",
        "bn_param = {'mode': 'train'}\n",
        "gamma = np.ones(C)\n",
        "beta = np.zeros(C)\n",
        "for t in range(50):\n",
        "  x = 2.3 * np.random.randn(N, C, H, W) + 13\n",
        "  spatial_batchnorm_forward(x, gamma, beta, bn_param)\n",
        "bn_param['mode'] = 'test'\n",
        "x = 2.3 * np.random.randn(N, C, H, W) + 13\n",
        "a_norm, _ = spatial_batchnorm_forward(x, gamma, beta, bn_param)\n",
        "\n",
        "# Means should be close to zero and stds close to one, but will be\n",
        "# noisier than training-time forward passes.\n",
        "print('After spatial batch normalization (test-time):')\n",
        "print('  means: ', a_norm.mean(axis=(0, 2, 3)))\n",
        "print('  stds: ', a_norm.std(axis=(0, 2, 3)))"
      ],
      "execution_count": 79,
      "outputs": [
        {
          "output_type": "stream",
          "text": [
            "After spatial batch normalization (test-time):\n",
            "  means:  [-0.08034406  0.07562881  0.05716371  0.04378383]\n",
            "  stds:  [0.96718744 1.0299714  1.02887624 1.00585577]\n"
          ],
          "name": "stdout"
        }
      ]
    },
    {
      "cell_type": "markdown",
      "metadata": {
        "id": "hGPiKl2tmo4S",
        "colab_type": "text"
      },
      "source": [
        "## Spatial batch normalization: backward\n",
        "In the file `cs231n/layers.py`, implement the backward pass for spatial batch normalization in the function `spatial_batchnorm_backward`. Run the following to check your implementation using a numeric gradient check:"
      ]
    },
    {
      "cell_type": "code",
      "metadata": {
        "id": "5u0dN0QGmo4U",
        "colab_type": "code",
        "colab": {
          "base_uri": "https://localhost:8080/",
          "height": 68
        },
        "outputId": "6f926708-9732-4d76-e88b-d2e2f714c0d7"
      },
      "source": [
        "np.random.seed(231)\n",
        "N, C, H, W = 2, 3, 4, 5\n",
        "x = 5 * np.random.randn(N, C, H, W) + 12\n",
        "gamma = np.random.randn(C)\n",
        "beta = np.random.randn(C)\n",
        "dout = np.random.randn(N, C, H, W)\n",
        "\n",
        "bn_param = {'mode': 'train'}\n",
        "fx = lambda x: spatial_batchnorm_forward(x, gamma, beta, bn_param)[0]\n",
        "fg = lambda a: spatial_batchnorm_forward(x, gamma, beta, bn_param)[0]\n",
        "fb = lambda b: spatial_batchnorm_forward(x, gamma, beta, bn_param)[0]\n",
        "\n",
        "dx_num = eval_numerical_gradient_array(fx, x, dout)\n",
        "da_num = eval_numerical_gradient_array(fg, gamma, dout)\n",
        "db_num = eval_numerical_gradient_array(fb, beta, dout)\n",
        "\n",
        "#You should expect errors of magnitudes between 1e-12~1e-06\n",
        "_, cache = spatial_batchnorm_forward(x, gamma, beta, bn_param)\n",
        "dx, dgamma, dbeta = spatial_batchnorm_backward(dout, cache)\n",
        "print('dx error: ', rel_error(dx_num, dx))\n",
        "print('dgamma error: ', rel_error(da_num, dgamma))\n",
        "print('dbeta error: ', rel_error(db_num, dbeta))"
      ],
      "execution_count": 81,
      "outputs": [
        {
          "output_type": "stream",
          "text": [
            "dx error:  2.7866481948435e-07\n",
            "dgamma error:  7.0974817113608705e-12\n",
            "dbeta error:  3.275608725278405e-12\n"
          ],
          "name": "stdout"
        }
      ]
    },
    {
      "cell_type": "markdown",
      "metadata": {
        "id": "fz9Tkigwmo4j",
        "colab_type": "text"
      },
      "source": [
        "# Group Normalization\n",
        "In the previous notebook, we mentioned that Layer Normalization is an alternative normalization technique that mitigates the batch size limitations of Batch Normalization. However, as the authors of [2] observed, Layer Normalization does not perform as well as Batch Normalization when used with Convolutional Layers:\n",
        "\n",
        ">With fully connected layers, all the hidden units in a layer tend to make similar contributions to the final prediction, and re-centering and rescaling the summed inputs to a layer works well. However, the assumption of similar contributions is no longer true for convolutional neural networks. The large number of the hidden units whose\n",
        "receptive fields lie near the boundary of the image are rarely turned on and thus have very different\n",
        "statistics from the rest of the hidden units within the same layer.\n",
        "\n",
        "The authors of [3] propose an intermediary technique. In contrast to Layer Normalization, where you normalize over the entire feature per-datapoint, they suggest a consistent splitting of each per-datapoint feature into G groups, and a per-group per-datapoint normalization instead. \n",
        "\n",
        "![Comparison of normalization techniques discussed so far](https://github.com/Ganitk/DL_ex2/blob/master/notebook_images/normalization.png?raw=1)\n",
        "<center>**Visual comparison of the normalization techniques discussed so far (image edited from [3])**</center>\n",
        "\n",
        "Even though an assumption of equal contribution is still being made within each group, the authors hypothesize that this is not as problematic, as innate grouping arises within features for visual recognition. One example they use to illustrate this is that many high-performance handcrafted features in traditional Computer Vision have terms that are explicitly grouped together. Take for example Histogram of Oriented Gradients [4]-- after computing histograms per spatially local block, each per-block histogram is normalized before being concatenated together to form the final feature vector.\n",
        "\n",
        "You will now implement Group Normalization. Note that this normalization technique that you are to implement in the following cells was introduced and published to ECCV just in 2018 -- this truly is still an ongoing and excitingly active field of research!\n",
        "\n",
        "[2] [Ba, Jimmy Lei, Jamie Ryan Kiros, and Geoffrey E. Hinton. \"Layer Normalization.\" stat 1050 (2016): 21.](https://arxiv.org/pdf/1607.06450.pdf)\n",
        "\n",
        "\n",
        "[3] [Wu, Yuxin, and Kaiming He. \"Group Normalization.\" arXiv preprint arXiv:1803.08494 (2018).](https://arxiv.org/abs/1803.08494)\n",
        "\n",
        "\n",
        "[4] [N. Dalal and B. Triggs. Histograms of oriented gradients for\n",
        "human detection. In Computer Vision and Pattern Recognition\n",
        "(CVPR), 2005.](https://ieeexplore.ieee.org/abstract/document/1467360/)"
      ]
    },
    {
      "cell_type": "markdown",
      "metadata": {
        "id": "zoLjiLq2mo4l",
        "colab_type": "text"
      },
      "source": [
        "## Group normalization: forward\n",
        "\n",
        "In the file `cs231n/layers.py`, implement the forward pass for group normalization in the function `spatial_groupnorm_forward`. Check your implementation by running the following:"
      ]
    },
    {
      "cell_type": "code",
      "metadata": {
        "id": "KgGuDkodmo4n",
        "colab_type": "code",
        "colab": {
          "base_uri": "https://localhost:8080/",
          "height": 153
        },
        "outputId": "f3241ea5-1c47-465d-f22f-c697e42d735d"
      },
      "source": [
        "np.random.seed(231)\n",
        "# Check the training-time forward pass by checking means and variances\n",
        "# of features both before and after spatial batch normalization\n",
        "\n",
        "N, C, H, W = 2, 6, 4, 5\n",
        "G = 2\n",
        "x = 4 * np.random.randn(N, C, H, W) + 10\n",
        "x_g = x.reshape((N*G,-1))\n",
        "print('Before spatial group normalization:')\n",
        "print('  Shape: ', x.shape)\n",
        "print('  Means: ', x_g.mean(axis=1))\n",
        "print('  Stds: ', x_g.std(axis=1))\n",
        "\n",
        "# Means should be close to zero and stds close to one\n",
        "gamma, beta = np.ones((1,C,1,1)), np.zeros((1,C,1,1))\n",
        "bn_param = {'mode': 'train'}\n",
        "\n",
        "out, _ = spatial_groupnorm_forward(x, gamma, beta, G, bn_param)\n",
        "out_g = out.reshape((N*G,-1))\n",
        "print('After spatial group normalization:')\n",
        "print('  Shape: ', out.shape)\n",
        "print('  Means: ', out_g.mean(axis=1))\n",
        "print('  Stds: ', out_g.std(axis=1))"
      ],
      "execution_count": 99,
      "outputs": [
        {
          "output_type": "stream",
          "text": [
            "Before spatial group normalization:\n",
            "  Shape:  (2, 6, 4, 5)\n",
            "  Means:  [9.72505327 8.51114185 8.9147544  9.43448077]\n",
            "  Stds:  [3.67070958 3.09892597 4.27043622 3.97521327]\n",
            "After spatial group normalization:\n",
            "  Shape:  (2, 6, 4, 5)\n",
            "  Means:  [-2.14643118e-16  5.25505565e-16  2.65528340e-16 -3.38618023e-16]\n",
            "  Stds:  [0.99999963 0.99999948 0.99999973 0.99999968]\n"
          ],
          "name": "stdout"
        }
      ]
    },
    {
      "cell_type": "markdown",
      "metadata": {
        "id": "x1cjZn1fmo5A",
        "colab_type": "text"
      },
      "source": [
        "## Spatial group normalization: backward\n",
        "In the file `cs231n/layers.py`, implement the backward pass for spatial batch normalization in the function `spatial_groupnorm_backward`. Run the following to check your implementation using a numeric gradient check:"
      ]
    },
    {
      "cell_type": "code",
      "metadata": {
        "id": "xwnpVAXtmo5C",
        "colab_type": "code",
        "colab": {
          "base_uri": "https://localhost:8080/",
          "height": 68
        },
        "outputId": "5e6ce411-81ea-48d1-bf7e-85add6a6c144"
      },
      "source": [
        "np.random.seed(231)\n",
        "N, C, H, W = 2, 6, 4, 5\n",
        "G = 2\n",
        "x = 5 * np.random.randn(N, C, H, W) + 12\n",
        "gamma = np.random.randn(1,C,1,1)\n",
        "beta = np.random.randn(1,C,1,1)\n",
        "dout = np.random.randn(N, C, H, W)\n",
        "\n",
        "gn_param = {}\n",
        "fx = lambda x: spatial_groupnorm_forward(x, gamma, beta, G, gn_param)[0]\n",
        "fg = lambda a: spatial_groupnorm_forward(x, gamma, beta, G, gn_param)[0]\n",
        "fb = lambda b: spatial_groupnorm_forward(x, gamma, beta, G, gn_param)[0]\n",
        "\n",
        "dx_num = eval_numerical_gradient_array(fx, x, dout)\n",
        "da_num = eval_numerical_gradient_array(fg, gamma, dout)\n",
        "db_num = eval_numerical_gradient_array(fb, beta, dout)\n",
        "\n",
        "_, cache = spatial_groupnorm_forward(x, gamma, beta, G, gn_param)\n",
        "dx, dgamma, dbeta = spatial_groupnorm_backward(dout, cache)\n",
        "#You should expect errors of magnitudes between 1e-12~1e-07\n",
        "print('dx error: ', rel_error(dx_num, dx))\n",
        "print('dgamma error: ', rel_error(da_num, dgamma))\n",
        "print('dbeta error: ', rel_error(db_num, dbeta))"
      ],
      "execution_count": 10,
      "outputs": [
        {
          "output_type": "stream",
          "text": [
            "dx error:  7.413109384854475e-08\n",
            "dgamma error:  9.468195772749234e-12\n",
            "dbeta error:  3.354494437653335e-12\n"
          ],
          "name": "stdout"
        }
      ]
    }
  ]
}